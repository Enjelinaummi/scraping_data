{
  "nbformat": 4,
  "nbformat_minor": 0,
  "metadata": {
    "colab": {
      "provenance": [],
      "authorship_tag": "ABX9TyM+wukaQ0v3OPuio+yvOvA+",
      "include_colab_link": true
    },
    "kernelspec": {
      "name": "python3",
      "display_name": "Python 3"
    },
    "language_info": {
      "name": "python"
    }
  },
  "cells": [
    {
      "cell_type": "markdown",
      "metadata": {
        "id": "view-in-github",
        "colab_type": "text"
      },
      "source": [
        "<a href=\"https://colab.research.google.com/github/Enjelinaummi/scraping_data/blob/main/Scraping_data.ipynb\" target=\"_parent\"><img src=\"https://colab.research.google.com/assets/colab-badge.svg\" alt=\"Open In Colab\"/></a>"
      ]
    },
    {
      "cell_type": "code",
      "source": [
        "pip install selenium"
      ],
      "metadata": {
        "colab": {
          "base_uri": "https://localhost:8080/"
        },
        "collapsed": true,
        "id": "v8ISlu3IziX2",
        "outputId": "20463e96-f1d2-4581-e78c-8d930f80cb03"
      },
      "execution_count": 57,
      "outputs": [
        {
          "output_type": "stream",
          "name": "stdout",
          "text": [
            "Requirement already satisfied: selenium in /usr/local/lib/python3.10/dist-packages (4.26.1)\n",
            "Requirement already satisfied: urllib3<3,>=1.26 in /usr/local/lib/python3.10/dist-packages (from urllib3[socks]<3,>=1.26->selenium) (2.2.3)\n",
            "Requirement already satisfied: trio~=0.17 in /usr/local/lib/python3.10/dist-packages (from selenium) (0.27.0)\n",
            "Requirement already satisfied: trio-websocket~=0.9 in /usr/local/lib/python3.10/dist-packages (from selenium) (0.11.1)\n",
            "Requirement already satisfied: certifi>=2021.10.8 in /usr/local/lib/python3.10/dist-packages (from selenium) (2024.8.30)\n",
            "Requirement already satisfied: typing_extensions~=4.9 in /usr/local/lib/python3.10/dist-packages (from selenium) (4.12.2)\n",
            "Requirement already satisfied: websocket-client~=1.8 in /usr/local/lib/python3.10/dist-packages (from selenium) (1.8.0)\n",
            "Requirement already satisfied: attrs>=23.2.0 in /usr/local/lib/python3.10/dist-packages (from trio~=0.17->selenium) (24.2.0)\n",
            "Requirement already satisfied: sortedcontainers in /usr/local/lib/python3.10/dist-packages (from trio~=0.17->selenium) (2.4.0)\n",
            "Requirement already satisfied: idna in /usr/local/lib/python3.10/dist-packages (from trio~=0.17->selenium) (3.10)\n",
            "Requirement already satisfied: outcome in /usr/local/lib/python3.10/dist-packages (from trio~=0.17->selenium) (1.3.0.post0)\n",
            "Requirement already satisfied: sniffio>=1.3.0 in /usr/local/lib/python3.10/dist-packages (from trio~=0.17->selenium) (1.3.1)\n",
            "Requirement already satisfied: exceptiongroup in /usr/local/lib/python3.10/dist-packages (from trio~=0.17->selenium) (1.2.2)\n",
            "Requirement already satisfied: wsproto>=0.14 in /usr/local/lib/python3.10/dist-packages (from trio-websocket~=0.9->selenium) (1.2.0)\n",
            "Requirement already satisfied: pysocks!=1.5.7,<2.0,>=1.5.6 in /usr/local/lib/python3.10/dist-packages (from urllib3[socks]<3,>=1.26->selenium) (1.7.1)\n",
            "Requirement already satisfied: h11<1,>=0.9.0 in /usr/local/lib/python3.10/dist-packages (from wsproto>=0.14->trio-websocket~=0.9->selenium) (0.14.0)\n"
          ]
        }
      ]
    },
    {
      "cell_type": "code",
      "execution_count": 88,
      "metadata": {
        "id": "ms3QTgD1zfru"
      },
      "outputs": [],
      "source": [
        "from bs4 import BeautifulSoup\n",
        "import pandas as pd\n",
        "import time\n",
        "from selenium import webdriver\n",
        "from selenium.webdriver.common.by import By\n",
        "from selenium.webdriver.chrome.service import Service\n",
        "import requests"
      ]
    },
    {
      "cell_type": "code",
      "source": [
        "# Mengatur opsi untuk Chrome\n",
        "options = webdriver.ChromeOptions()\n",
        "options.add_argument('--headless')  # Menjalankan Chrome di background tanpa tampilan GUI\n",
        "options.add_argument('--no-sandbox')  # Menonaktifkan sandboxing\n",
        "options.add_argument('--disable-dev-shm-usage')  # Mengatasi masalah pada sistem yang memiliki memori terbatas\n",
        "\n",
        "# Inisialisasi driver dengan opsi yang sudah diset\n",
        "driver = webdriver.Chrome(options=options)"
      ],
      "metadata": {
        "id": "Iakft_mBBAz3"
      },
      "execution_count": 89,
      "outputs": []
    },
    {
      "cell_type": "code",
      "source": [
        "url = 'https://reviews.femaledaily.com/products/lips/lipstick?brand=&order=popular&page=1'\n",
        "driver.get(url)\n",
        "time.sleep(3)"
      ],
      "metadata": {
        "id": "o6eTN_GF1TCN"
      },
      "execution_count": 90,
      "outputs": []
    },
    {
      "cell_type": "code",
      "source": [
        "# Mengambil konten halaman\n",
        "html = driver.page_source\n",
        "soup = BeautifulSoup(html, 'html.parser')"
      ],
      "metadata": {
        "id": "bJH29E33DN9t"
      },
      "execution_count": 91,
      "outputs": []
    },
    {
      "cell_type": "code",
      "source": [
        "# Ambil elemen produk\n",
        "product_elements = soup.find_all('div', class_='jsx-1897565266 info-product')\n",
        "\n",
        "# Siapkan daftar untuk menyimpan data\n",
        "data = []\n",
        "\n",
        "# Loop melalui setiap elemen produk dan ambil data\n",
        "for product in product_elements:\n",
        "    name = product.find('p', class_='jsx-1897565266 fd-body-md-bold text-ellipsis word-break').text.strip()\n",
        "    lipstick_name = product.find('p', class_='jsx-1897565266 fd-body-md-regular text-ellipsis two-line word-break').text.strip()\n",
        "    shade = product.find_all('p', class_='jsx-1897565266 fd-body-md-regular text-ellipsis grey')[0].text.strip()\n",
        "    rating = product.find('span', class_='jsx-1897565266 fd-body-sm-regular').text.strip()\n",
        "\n",
        "    # Simpan data ke dalam daftar\n",
        "    data.append({\n",
        "        'Brand': brand,\n",
        "        'Lipstick Name': lipstick_name,\n",
        "        'Shade': shade,\n",
        "        'Rating': rating\n",
        "    })\n",
        "\n",
        "# Tutup driver setelah selesai\n",
        "driver.quit()\n",
        "\n",
        "# Buat DataFrame dari data yang telah diambil\n",
        "df = pd.DataFrame(data)\n",
        "\n",
        "# Tampilkan DataFrame\n",
        "print(df)"
      ],
      "metadata": {
        "colab": {
          "base_uri": "https://localhost:8080/"
        },
        "id": "vte-4AffHXzM",
        "outputId": "f1ec6299-e8c9-4f70-d6ec-5eb1c29cf86b"
      },
      "execution_count": 94,
      "outputs": [
        {
          "output_type": "stream",
          "name": "stderr",
          "text": [
            "WARNING:urllib3.connectionpool:Retrying (Retry(total=2, connect=None, read=None, redirect=None, status=None)) after connection broken by 'NewConnectionError('<urllib3.connection.HTTPConnection object at 0x789e32ebeec0>: Failed to establish a new connection: [Errno 111] Connection refused')': /session/59cf2c065ad72f2944407aedee341c01\n",
            "WARNING:urllib3.connectionpool:Retrying (Retry(total=1, connect=None, read=None, redirect=None, status=None)) after connection broken by 'NewConnectionError('<urllib3.connection.HTTPConnection object at 0x789e32ebfa00>: Failed to establish a new connection: [Errno 111] Connection refused')': /session/59cf2c065ad72f2944407aedee341c01\n",
            "WARNING:urllib3.connectionpool:Retrying (Retry(total=0, connect=None, read=None, redirect=None, status=None)) after connection broken by 'NewConnectionError('<urllib3.connection.HTTPConnection object at 0x789e32ebfe80>: Failed to establish a new connection: [Errno 111] Connection refused')': /session/59cf2c065ad72f2944407aedee341c01\n"
          ]
        },
        {
          "output_type": "stream",
          "name": "stdout",
          "text": [
            "   Brand                           Lipstick Name  \\\n",
            "0                           Lipstick Color Matte   \n",
            "1                      Exclusive Matte Lip Cream   \n",
            "2                           Lipstick Color Matte   \n",
            "3                            Creamatte Lip Cream   \n",
            "4         The Powder Mattes by Color Sensational   \n",
            "5         The Powder Mattes by Color Sensational   \n",
            "6                                      Lip Cream   \n",
            "7                            Creamatte Lip Cream   \n",
            "8                        Intense Matte Lip Cream   \n",
            "9                      Exclusive Matte Lip Cream   \n",
            "10                                     Lip Cream   \n",
            "11                          Soft Matte Lip Cream   \n",
            "12          Mattedorable Lipcream (Boba Edition)   \n",
            "13           Superstay Matte Ink Liquid Lipstick   \n",
            "14                     Exclusive Matte Lip Cream   \n",
            "15                       Intense Matte Lip Cream   \n",
            "16                            HI-MATTE Lip Cream   \n",
            "17         Day to Day Series Keychain Lip Bullet   \n",
            "18                                      Lip Coat   \n",
            "19        Day to Day Series Lite Matte Lip Cream   \n",
            "\n",
            "                                           Shade Rating  \n",
            "0                                     81 Diamond    4.3  \n",
            "1   03 See You Latte - Reformulation in May 2023    3.6  \n",
            "2                                     90 Crystal      4  \n",
            "3                                    Fuzzy Wuzzy    4.3  \n",
            "4                                  Touch of Nude    4.1  \n",
            "5                                  Toasted Brown    4.6  \n",
            "6                                11 Gaudi Orange    4.1  \n",
            "7                                      MauveLous    4.1  \n",
            "8                                     004 Vanity    4.6  \n",
            "9        09 Mauve On - Reformulation in May 2023   3.98  \n",
            "10                                  01 Chic Rose    3.7  \n",
            "11                                       Antwerp    3.7  \n",
            "12                                02 Brown Sugar    4.7  \n",
            "13                                     Versatile    4.5  \n",
            "14     11 Oh So Nude - Reformulation in May 2023    3.8  \n",
            "15                                   011 Pompous    4.6  \n",
            "16                                     02 Azalea    3.7  \n",
            "17                              03 Extraordinary      5  \n",
            "18                                  Butter Fudge    4.2  \n",
            "19                                   06 Attitude    4.2  \n"
          ]
        }
      ]
    },
    {
      "cell_type": "code",
      "source": [
        "csv_file_path = 'data_lipstick.csv'  # Nama file CSV yang ingin disimpan\n",
        "df.to_csv(csv_file_path, index=False)  # index=False untuk tidak menyertakan indeks\n",
        "print(f'Data berhasil disimpan ke dalam {csv_file_path}')"
      ],
      "metadata": {
        "colab": {
          "base_uri": "https://localhost:8080/"
        },
        "id": "F1ZepHEwHvOQ",
        "outputId": "b85b8afb-36f1-440b-bdff-abf1ebdb316c"
      },
      "execution_count": 95,
      "outputs": [
        {
          "output_type": "stream",
          "name": "stdout",
          "text": [
            "Data berhasil disimpan ke dalam data_lipstick.csv\n"
          ]
        }
      ]
    }
  ]
}